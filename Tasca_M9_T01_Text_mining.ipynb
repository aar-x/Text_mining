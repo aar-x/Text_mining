{
  "nbformat": 4,
  "nbformat_minor": 0,
  "metadata": {
    "colab": {
      "provenance": []
    },
    "kernelspec": {
      "name": "python3",
      "display_name": "Python 3"
    },
    "language_info": {
      "name": "python"
    }
  },
  "cells": [
    {
      "cell_type": "markdown",
      "source": [
        "## Introducción\n",
        "\n",
        "En esta práctica aplicaremos el análisis de sentimiento sobre un poema de Rudyard Kipling, escrito en inglés: el conocido 'If', utilizando la librería NLTK de análisis de sentimiento.\n",
        "\n",
        "- En primer lugar haremos un recuento de las palabras que aparecen en el poema a través de una tokenización y una distribución de frecuencias. [EX01](#EX01)\n",
        "- En segundo lugar procesaremos el texto para eliminar tanto los términos stop como los sufijos, que si bien son útiles en el lenguaje hablado no tienen relevancia en este contexto. [EX02](#EX02)\n",
        "- En tercer lugar realizaremos el análisis de sentimiento propiamente dicho. [EX03](#EX03)\n",
        "\n",
        "Por último, en nuestra [conclusión](#conclusion) comentamos las limitaciones del análisis léxico en casos como este."
      ],
      "metadata": {
        "id": "uigVAV0olmEr"
      }
    },
    {
      "cell_type": "markdown",
      "source": [
        "# EX01. <a name=\"EX01\"></a>Agafa un text en anglès que vulguis, i calcula'n la freqüència de les paraules."
      ],
      "metadata": {
        "id": "pGO8_rMqlGqk"
      }
    },
    {
      "cell_type": "markdown",
      "source": [
        "Comezamos asignando el texto, el poema 'If' de Rudyard Kipling a la variable if_kipling."
      ],
      "metadata": {
        "id": "WMvUyaS31dLH"
      }
    },
    {
      "cell_type": "code",
      "source": [
        "texto = open('If.txt').read()"
      ],
      "metadata": {
        "id": "l0UqaW6n0VVs"
      },
      "execution_count": 1,
      "outputs": []
    },
    {
      "cell_type": "code",
      "source": [
        "print(texto)"
      ],
      "metadata": {
        "colab": {
          "base_uri": "https://localhost:8080/"
        },
        "id": "UnBBvLvxNj7x",
        "outputId": "ff9ec8c3-925b-4bd0-99af-ca137b119f8b"
      },
      "execution_count": 2,
      "outputs": [
        {
          "output_type": "stream",
          "name": "stdout",
          "text": [
            "If you can keep your head when all about you   \n",
            "    Are losing theirs and blaming it on you,   \n",
            "If you can trust yourself when all men doubt you,\n",
            "    But make allowance for their doubting too;   \n",
            "If you can wait and not be tired by waiting,\n",
            "    Or being lied about, don’t deal in lies,\n",
            "Or being hated, don’t give way to hating,\n",
            "    And yet don’t look too good, nor talk too wise:\n",
            "\n",
            "If you can dream—and not make dreams your master;   \n",
            "    If you can think—and not make thoughts your aim;   \n",
            "If you can meet with Triumph and Disaster\n",
            "    And treat those two impostors just the same;   \n",
            "If you can bear to hear the truth you’ve spoken\n",
            "    Twisted by knaves to make a trap for fools,\n",
            "Or watch the things you gave your life to, broken,\n",
            "    And stoop and build ’em up with worn-out tools:\n",
            "\n",
            "If you can make one heap of all your winnings\n",
            "    And risk it on one turn of pitch-and-toss,\n",
            "And lose, and start again at your beginnings\n",
            "    And never breathe a word about your loss;\n",
            "If you can force your heart and nerve and sinew\n",
            "    To serve your turn long after they are gone,   \n",
            "And so hold on when there is nothing in you\n",
            "    Except the Will which says to them: ‘Hold on!’\n",
            "\n",
            "If you can talk with crowds and keep your virtue,   \n",
            "    Or walk with Kings—nor lose the common touch,\n",
            "If neither foes nor loving friends can hurt you,\n",
            "    If all men count with you, but none too much;\n",
            "If you can fill the unforgiving minute\n",
            "    With sixty seconds’ worth of distance run,   \n",
            "Yours is the Earth and everything that’s in it,   \n",
            "    And—which is more—you’ll be a Man, my son!\n"
          ]
        }
      ]
    },
    {
      "cell_type": "code",
      "source": [
        "import nltk\n",
        "from nltk.tokenize import word_tokenize\n",
        "from nltk.probability import FreqDist"
      ],
      "metadata": {
        "id": "CJPdQxdQlppj"
      },
      "execution_count": 4,
      "outputs": []
    },
    {
      "cell_type": "code",
      "source": [
        "tokens_raw = nltk.word_tokenize(texto)\n",
        "tokens = []\n",
        "\n",
        "fdist = FreqDist()\n",
        "for word in tokens_raw:\n",
        "  if word.isalpha():\n",
        "    word = word.lower()\n",
        "    fdist[word] += 1\n",
        "    tokens.append(word)"
      ],
      "metadata": {
        "id": "cLtVa3QtKrH8"
      },
      "execution_count": 28,
      "outputs": []
    },
    {
      "cell_type": "markdown",
      "source": [
        "Tokenizamos el texto, en minúscula y eliminando los signos de puntuación y apóstrofes. También guardamos todos los términos y su conteo en la variable fdist."
      ],
      "metadata": {
        "id": "DAvIbzHEVQ1Q"
      }
    },
    {
      "cell_type": "code",
      "source": [
        "for x in fdist:\n",
        "  print(x, fdist[x])"
      ],
      "metadata": {
        "colab": {
          "base_uri": "https://localhost:8080/"
        },
        "id": "FYzqdBcz4SMD",
        "outputId": "77f48c6e-5de0-4d44-d3db-7b796c1db430"
      },
      "execution_count": 35,
      "outputs": [
        {
          "output_type": "stream",
          "name": "stdout",
          "text": [
            "you 19\n",
            "and 16\n",
            "if 13\n",
            "can 12\n",
            "your 10\n",
            "the 7\n",
            "to 6\n",
            "with 6\n",
            "make 5\n",
            "all 4\n",
            "on 4\n",
            "too 4\n",
            "or 4\n",
            "when 3\n",
            "about 3\n",
            "it 3\n",
            "not 3\n",
            "don 3\n",
            "t 3\n",
            "in 3\n",
            "a 3\n",
            "of 3\n",
            "is 3\n",
            "keep 2\n",
            "are 2\n",
            "men 2\n",
            "but 2\n",
            "for 2\n",
            "be 2\n",
            "by 2\n",
            "being 2\n",
            "nor 2\n",
            "talk 2\n",
            "one 2\n",
            "turn 2\n",
            "lose 2\n",
            "hold 2\n",
            "head 1\n",
            "losing 1\n",
            "theirs 1\n",
            "blaming 1\n",
            "trust 1\n",
            "yourself 1\n",
            "doubt 1\n",
            "allowance 1\n",
            "their 1\n",
            "doubting 1\n",
            "wait 1\n",
            "tired 1\n",
            "waiting 1\n",
            "lied 1\n",
            "deal 1\n",
            "lies 1\n",
            "hated 1\n",
            "give 1\n",
            "way 1\n",
            "hating 1\n",
            "yet 1\n",
            "look 1\n",
            "good 1\n",
            "wise 1\n",
            "dreams 1\n",
            "master 1\n",
            "thoughts 1\n",
            "aim 1\n",
            "meet 1\n",
            "triumph 1\n",
            "disaster 1\n",
            "treat 1\n",
            "those 1\n",
            "two 1\n",
            "impostors 1\n",
            "just 1\n",
            "same 1\n",
            "bear 1\n",
            "hear 1\n",
            "truth 1\n",
            "ve 1\n",
            "spoken 1\n",
            "twisted 1\n",
            "knaves 1\n",
            "trap 1\n",
            "fools 1\n",
            "watch 1\n",
            "things 1\n",
            "gave 1\n",
            "life 1\n",
            "broken 1\n",
            "stoop 1\n",
            "build 1\n",
            "em 1\n",
            "up 1\n",
            "tools 1\n",
            "heap 1\n",
            "winnings 1\n",
            "risk 1\n",
            "start 1\n",
            "again 1\n",
            "at 1\n",
            "beginnings 1\n",
            "never 1\n",
            "breathe 1\n",
            "word 1\n",
            "loss 1\n",
            "force 1\n",
            "heart 1\n",
            "nerve 1\n",
            "sinew 1\n",
            "serve 1\n",
            "long 1\n",
            "after 1\n",
            "they 1\n",
            "gone 1\n",
            "so 1\n",
            "there 1\n",
            "nothing 1\n",
            "except 1\n",
            "will 1\n",
            "which 1\n",
            "says 1\n",
            "them 1\n",
            "crowds 1\n",
            "virtue 1\n",
            "walk 1\n",
            "common 1\n",
            "touch 1\n",
            "neither 1\n",
            "foes 1\n",
            "loving 1\n",
            "friends 1\n",
            "hurt 1\n",
            "count 1\n",
            "none 1\n",
            "much 1\n",
            "fill 1\n",
            "unforgiving 1\n",
            "minute 1\n",
            "sixty 1\n",
            "seconds 1\n",
            "worth 1\n",
            "distance 1\n",
            "run 1\n",
            "yours 1\n",
            "earth 1\n",
            "everything 1\n",
            "that 1\n",
            "s 1\n",
            "ll 1\n",
            "man 1\n",
            "my 1\n",
            "son 1\n"
          ]
        }
      ]
    },
    {
      "cell_type": "markdown",
      "source": [
        "Mostramos la distribución de frecuencias."
      ],
      "metadata": {
        "id": "zdViPm6JV53q"
      }
    },
    {
      "cell_type": "markdown",
      "source": [
        "# EX02. <a name=\"EX02\"></a>Treu les stopwords i realitza stemming al teu conjunt de dades."
      ],
      "metadata": {
        "id": "d3XhgwoClycp"
      }
    },
    {
      "cell_type": "code",
      "source": [
        "nltk.download('punkt')\n",
        "nltk.download('stopwords')\n",
        "nltk.download('wordnet')"
      ],
      "metadata": {
        "id": "9eiu7ljxlll8"
      },
      "execution_count": null,
      "outputs": []
    },
    {
      "cell_type": "code",
      "source": [
        "from nltk.corpus import stopwords\n",
        "from nltk.stem import WordNetLemmatizer"
      ],
      "metadata": {
        "id": "KGVNtpDSl-_c"
      },
      "execution_count": 14,
      "outputs": []
    },
    {
      "cell_type": "code",
      "source": [
        "def preprocess_text(tokens):\n",
        "\n",
        "    filtered_tokens = [token for token in tokens if token not in stopwords.words('english')]\n",
        "    lemmatizer = WordNetLemmatizer()\n",
        "    lemmatized_tokens = [lemmatizer.lemmatize(token) for token in filtered_tokens]\n",
        "    processed_text = ' '.join(lemmatized_tokens)\n",
        "    return processed_text\n",
        "\n",
        "processed_text = preprocess_text(tokens)\n",
        "print('Texto sin stop words y con stemming:\\n')\n",
        "processed_text"
      ],
      "metadata": {
        "colab": {
          "base_uri": "https://localhost:8080/",
          "height": 166
        },
        "id": "K7dG1aU4mhXR",
        "outputId": "b517f8b0-9788-4010-ad28-44a86c2a5c54"
      },
      "execution_count": 52,
      "outputs": [
        {
          "output_type": "stream",
          "name": "stdout",
          "text": [
            "Texto sin stop words y con stemming:\n",
            "\n"
          ]
        },
        {
          "output_type": "execute_result",
          "data": {
            "text/plain": [
              "'keep head losing blaming trust men doubt make allowance doubting wait tired waiting lied deal lie hated give way hating yet look good talk wise make dream master make thought aim meet triumph disaster treat two impostor bear hear truth spoken twisted knave make trap fool watch thing gave life broken stoop build em tool make one heap winning risk one turn lose start beginning never breathe word loss force heart nerve sinew serve turn long gone hold nothing except say hold talk crowd keep virtue walk lose common touch neither foe loving friend hurt men count none much fill unforgiving minute sixty second worth distance run earth everything man son'"
            ],
            "application/vnd.google.colaboratory.intrinsic+json": {
              "type": "string"
            }
          },
          "metadata": {},
          "execution_count": 52
        }
      ]
    },
    {
      "cell_type": "code",
      "source": [
        "print('Texto tokenizado con stop words y sin stemming:\\n')\n",
        "' '.join(tokens)"
      ],
      "metadata": {
        "colab": {
          "base_uri": "https://localhost:8080/",
          "height": 275
        },
        "id": "DAgWXQ-g4HVy",
        "outputId": "5ea27962-97e2-4ca3-f7af-b75e09f7fdfb"
      },
      "execution_count": 47,
      "outputs": [
        {
          "output_type": "stream",
          "name": "stdout",
          "text": [
            "Texto tokenizado con stop words y sin stemming:\n",
            "\n"
          ]
        },
        {
          "output_type": "execute_result",
          "data": {
            "text/plain": [
              "'if you can keep your head when all about you are losing theirs and blaming it on you if you can trust yourself when all men doubt you but make allowance for their doubting too if you can wait and not be tired by waiting or being lied about don t deal in lies or being hated don t give way to hating and yet don t look too good nor talk too wise if you can not make dreams your master if you can not make thoughts your aim if you can meet with triumph and disaster and treat those two impostors just the same if you can bear to hear the truth you ve spoken twisted by knaves to make a trap for fools or watch the things you gave your life to broken and stoop and build em up with tools if you can make one heap of all your winnings and risk it on one turn of and lose and start again at your beginnings and never breathe a word about your loss if you can force your heart and nerve and sinew to serve your turn long after they are gone and so hold on when there is nothing in you except the will which says to them hold on if you can talk with crowds and keep your virtue or walk with lose the common touch if neither foes nor loving friends can hurt you if all men count with you but none too much if you can fill the unforgiving minute with sixty seconds worth of distance run yours is the earth and everything that s in it is ll be a man my son'"
            ],
            "application/vnd.google.colaboratory.intrinsic+json": {
              "type": "string"
            }
          },
          "metadata": {},
          "execution_count": 47
        }
      ]
    },
    {
      "cell_type": "markdown",
      "source": [
        "# EX03. <a name=\"EX03\"></a>Realitza sentiment analysis al teu conjunt de dades."
      ],
      "metadata": {
        "id": "7KVM9tUemHIo"
      }
    },
    {
      "cell_type": "markdown",
      "source": [
        "Vamos a aplicar finalmente el análisis de sentimiento:"
      ],
      "metadata": {
        "id": "t_uehU5RWDpn"
      }
    },
    {
      "cell_type": "code",
      "source": [
        "nltk.download('vader_lexicon')\n",
        "from nltk.sentiment.vader import SentimentIntensityAnalyzer"
      ],
      "metadata": {
        "colab": {
          "base_uri": "https://localhost:8080/"
        },
        "id": "6CxtwcQepCLp",
        "outputId": "ced14d7b-526b-4fc7-bd04-f48c61449b59"
      },
      "execution_count": 50,
      "outputs": [
        {
          "output_type": "stream",
          "name": "stderr",
          "text": [
            "[nltk_data] Downloading package vader_lexicon to /root/nltk_data...\n"
          ]
        }
      ]
    },
    {
      "cell_type": "code",
      "source": [
        "analyzer = SentimentIntensityAnalyzer()\n",
        "sentiment = analyzer.polarity_scores(processed_text)\n",
        "sentiment"
      ],
      "metadata": {
        "colab": {
          "base_uri": "https://localhost:8080/"
        },
        "id": "WZgQV2Z7pPCK",
        "outputId": "776e3d3a-f603-4e88-e9a8-189f6e623a7d"
      },
      "execution_count": 70,
      "outputs": [
        {
          "output_type": "execute_result",
          "data": {
            "text/plain": [
              "{'neg': 0.319, 'neu': 0.489, 'pos': 0.192, 'compound': -0.9679}"
            ]
          },
          "metadata": {},
          "execution_count": 70
        }
      ]
    },
    {
      "cell_type": "markdown",
      "source": [
        "Como podemos ver, en general el sentimiento compuesto del poema analizado parece ser muy negativo: -0.968 para un máximo negativo de -1, con un 31.9% de los términos de carácter negativo, 48.9% de carácter neutro y 19.2% de carácter positivo.\n",
        "La valoración compuesta tan negativa, a pesar de que los porcentajes no son tan distintos se explica por la distinta intensidad de los términos, que aunque se contabilizan como uno sólo en los sentimientos negativo, positivo y neutro, el estimador VADER (que utiliza SentimentIntensityAnalyzer) diferencia en el sentimiento compuesto."
      ],
      "metadata": {
        "id": "r_izC8atQXPA"
      }
    },
    {
      "cell_type": "markdown",
      "source": [
        "# Conclusión<a name=\"conclusion\"></a>"
      ],
      "metadata": {
        "id": "r_uNyqcfHH7-"
      }
    },
    {
      "cell_type": "markdown",
      "source": [
        "En el análisis del poema 'If' de Kipling, un lector humano probablemente percibiría un tono positivo y motivador, lo cual se puede entender considerando el título recurrente y el uso frecuente del término 'if', que aparece 13 veces. Este uso reiterado establece un contraste entre respuestas positivas y situaciones desafiantes, destacando un enfoque de autoliderazgo. Sin embargo, el sistema de análisis léxico utilizado en nuestra práctica no capta este matiz, revelando así sus limitaciones en contextos como este.\n",
        "\n",
        "Según el tutorial 'NLTK Sentiment Analysis Tutorial for Beginners', el análisis léxico es solo una de las metodologías disponibles para el análisis de sentimientos. Aunque es menos demandante en términos de recursos, puede perder precisión en casos especiales como este. Otras alternativas, como el machine learning y el deep learning, podrían ser más apropiadas para un análisis detallado de textos con complejidades similares a las de 'If' y merecerían ser exploradas para este tipo de textos, con un carácter menos literal y más metafórico."
      ],
      "metadata": {
        "id": "PCvsFUAbNW3y"
      }
    }
  ]
}